{
 "cells": [
  {
   "cell_type": "code",
   "execution_count": 1,
   "metadata": {
    "_cell_guid": "b1076dfc-b9ad-4769-8c92-a6c4dae69d19",
    "_uuid": "8f2839f25d086af736a60e9eeb907d3b93b6e0e5",
    "collapsed": true
   },
   "outputs": [],
   "source": [
    "import numpy as np # linear algebra\n",
    "import pandas as pd # data processing, CSV file I/O (e.g. pd.read_csv)\n",
    "import datetime\n",
    "import os\n",
    "#print(os.listdir(\"../input\"))\n",
    "\n",
    "import time\n",
    "\n",
    "import matplotlib.pyplot as plt\n",
    "import seaborn as sns\n",
    "%matplotlib inline\n",
    "\n",
    "# Any results you write to the current directory are saved as output."
   ]
  },
  {
   "cell_type": "code",
   "execution_count": 2,
   "metadata": {},
   "outputs": [],
   "source": [
    "# modelling imports\n",
    "from sklearn.linear_model import LogisticRegression\n",
    "from sklearn.model_selection import train_test_split\n",
    "from sklearn.metrics import (accuracy_score, f1_score, precision_score, \n",
    "auc, recall_score, roc_curve, roc_auc_score)\n",
    "from sklearn.metrics import confusion_matrix, classification_report\n",
    "from imblearn.over_sampling import SMOTE, ADASYN, RandomOverSampler\n",
    "from sklearn.ensemble import RandomForestClassifier\n",
    "\n",
    "import xgboost as xgb"
   ]
  },
  {
   "cell_type": "markdown",
   "metadata": {},
   "source": [
    "The evaluator for this Kaggle competition will be area under the ROC curve, AUC. Given the fact that this data is so imbalanced, I will focus on F1 to guide the accuracy of my models. "
   ]
  },
  {
   "cell_type": "code",
   "execution_count": 3,
   "metadata": {},
   "outputs": [
    {
     "name": "stdout",
     "output_type": "stream",
     "text": [
      "/Users/josephpope/GitHub/McNulty - Kaggle App Fraud\n"
     ]
    }
   ],
   "source": [
    "!pwd"
   ]
  },
  {
   "cell_type": "code",
   "execution_count": 4,
   "metadata": {},
   "outputs": [
    {
     "name": "stdout",
     "output_type": "stream",
     "text": [
      "['test.csv', 'test_supplement.csv', 'train.csv', 'sample_submission.csv']\n"
     ]
    }
   ],
   "source": [
    "print(os.listdir(\"/Users/josephpope/GitHub/McNulty - Kaggle App Fraud/data/\"))"
   ]
  },
  {
   "cell_type": "code",
   "execution_count": 5,
   "metadata": {},
   "outputs": [],
   "source": [
    "test_path = \"/Users/josephpope/GitHub/McNulty - Kaggle App Fraud/data/test.csv\"\n",
    "train_path = \"/Users/josephpope/GitHub/McNulty - Kaggle App Fraud/data/train.csv\""
   ]
  },
  {
   "cell_type": "code",
   "execution_count": 6,
   "metadata": {
    "_uuid": "3f2d3f15ec2958ee8cecba33e3f36bed24e882bc",
    "collapsed": true
   },
   "outputs": [
    {
     "data": {
      "text/plain": [
       "<matplotlib.figure.Figure at 0x1a100e8940>"
      ]
     },
     "metadata": {},
     "output_type": "display_data"
    }
   ],
   "source": [
    "# seaborn settings \n",
    "\n",
    "sns.set(rc={'figure.figsize':(10,4)});\n",
    "plt.figure(figsize=(10,4));"
   ]
  },
  {
   "cell_type": "code",
   "execution_count": 7,
   "metadata": {
    "_uuid": "a1bdde7979f338beafa1dbcd92a28fc695db68fa",
    "collapsed": true
   },
   "outputs": [
    {
     "name": "stdout",
     "output_type": "stream",
     "text": [
      "0.9.0\n"
     ]
    }
   ],
   "source": [
    "print(sns.__version__)"
   ]
  },
  {
   "cell_type": "code",
   "execution_count": 8,
   "metadata": {},
   "outputs": [],
   "source": [
    "test = pd.read_csv(test_path, nrows=2000000)"
   ]
  },
  {
   "cell_type": "code",
   "execution_count": 9,
   "metadata": {},
   "outputs": [
    {
     "data": {
      "text/html": [
       "<div>\n",
       "<style>\n",
       "    .dataframe thead tr:only-child th {\n",
       "        text-align: right;\n",
       "    }\n",
       "\n",
       "    .dataframe thead th {\n",
       "        text-align: left;\n",
       "    }\n",
       "\n",
       "    .dataframe tbody tr th {\n",
       "        vertical-align: top;\n",
       "    }\n",
       "</style>\n",
       "<table border=\"1\" class=\"dataframe\">\n",
       "  <thead>\n",
       "    <tr style=\"text-align: right;\">\n",
       "      <th></th>\n",
       "      <th>click_id</th>\n",
       "      <th>ip</th>\n",
       "      <th>app</th>\n",
       "      <th>device</th>\n",
       "      <th>os</th>\n",
       "      <th>channel</th>\n",
       "      <th>click_time</th>\n",
       "    </tr>\n",
       "  </thead>\n",
       "  <tbody>\n",
       "    <tr>\n",
       "      <th>0</th>\n",
       "      <td>0</td>\n",
       "      <td>5744</td>\n",
       "      <td>9</td>\n",
       "      <td>1</td>\n",
       "      <td>3</td>\n",
       "      <td>107</td>\n",
       "      <td>2017-11-10 04:00:00</td>\n",
       "    </tr>\n",
       "    <tr>\n",
       "      <th>1</th>\n",
       "      <td>1</td>\n",
       "      <td>119901</td>\n",
       "      <td>9</td>\n",
       "      <td>1</td>\n",
       "      <td>3</td>\n",
       "      <td>466</td>\n",
       "      <td>2017-11-10 04:00:00</td>\n",
       "    </tr>\n",
       "    <tr>\n",
       "      <th>2</th>\n",
       "      <td>2</td>\n",
       "      <td>72287</td>\n",
       "      <td>21</td>\n",
       "      <td>1</td>\n",
       "      <td>19</td>\n",
       "      <td>128</td>\n",
       "      <td>2017-11-10 04:00:00</td>\n",
       "    </tr>\n",
       "    <tr>\n",
       "      <th>3</th>\n",
       "      <td>3</td>\n",
       "      <td>78477</td>\n",
       "      <td>15</td>\n",
       "      <td>1</td>\n",
       "      <td>13</td>\n",
       "      <td>111</td>\n",
       "      <td>2017-11-10 04:00:00</td>\n",
       "    </tr>\n",
       "    <tr>\n",
       "      <th>4</th>\n",
       "      <td>4</td>\n",
       "      <td>123080</td>\n",
       "      <td>12</td>\n",
       "      <td>1</td>\n",
       "      <td>13</td>\n",
       "      <td>328</td>\n",
       "      <td>2017-11-10 04:00:00</td>\n",
       "    </tr>\n",
       "  </tbody>\n",
       "</table>\n",
       "</div>"
      ],
      "text/plain": [
       "   click_id      ip  app  device  os  channel           click_time\n",
       "0         0    5744    9       1   3      107  2017-11-10 04:00:00\n",
       "1         1  119901    9       1   3      466  2017-11-10 04:00:00\n",
       "2         2   72287   21       1  19      128  2017-11-10 04:00:00\n",
       "3         3   78477   15       1  13      111  2017-11-10 04:00:00\n",
       "4         4  123080   12       1  13      328  2017-11-10 04:00:00"
      ]
     },
     "execution_count": 9,
     "metadata": {},
     "output_type": "execute_result"
    }
   ],
   "source": [
    "test.head()"
   ]
  },
  {
   "cell_type": "code",
   "execution_count": 10,
   "metadata": {},
   "outputs": [
    {
     "data": {
      "text/plain": [
       "click_id       int64\n",
       "ip             int64\n",
       "app            int64\n",
       "device         int64\n",
       "os             int64\n",
       "channel        int64\n",
       "click_time    object\n",
       "dtype: object"
      ]
     },
     "execution_count": 10,
     "metadata": {},
     "output_type": "execute_result"
    }
   ],
   "source": [
    "test.dtypes"
   ]
  },
  {
   "cell_type": "code",
   "execution_count": 11,
   "metadata": {
    "_cell_guid": "79c7e3d0-c299-4dcb-8224-4455121ee9b0",
    "_uuid": "d629ff2d2480ee46fbb7e2d37f6b5fab8052498a",
    "collapsed": true
   },
   "outputs": [],
   "source": [
    "train = pd.read_csv(train_path, nrows=2000000, parse_dates=True, infer_datetime_format=True, \n",
    "                    date_parser = pd.to_datetime)"
   ]
  },
  {
   "cell_type": "code",
   "execution_count": 12,
   "metadata": {},
   "outputs": [
    {
     "data": {
      "text/html": [
       "<div>\n",
       "<style>\n",
       "    .dataframe thead tr:only-child th {\n",
       "        text-align: right;\n",
       "    }\n",
       "\n",
       "    .dataframe thead th {\n",
       "        text-align: left;\n",
       "    }\n",
       "\n",
       "    .dataframe tbody tr th {\n",
       "        vertical-align: top;\n",
       "    }\n",
       "</style>\n",
       "<table border=\"1\" class=\"dataframe\">\n",
       "  <thead>\n",
       "    <tr style=\"text-align: right;\">\n",
       "      <th></th>\n",
       "      <th>ip</th>\n",
       "      <th>app</th>\n",
       "      <th>device</th>\n",
       "      <th>os</th>\n",
       "      <th>channel</th>\n",
       "      <th>click_time</th>\n",
       "      <th>attributed_time</th>\n",
       "      <th>is_attributed</th>\n",
       "    </tr>\n",
       "  </thead>\n",
       "  <tbody>\n",
       "    <tr>\n",
       "      <th>0</th>\n",
       "      <td>83230</td>\n",
       "      <td>3</td>\n",
       "      <td>1</td>\n",
       "      <td>13</td>\n",
       "      <td>379</td>\n",
       "      <td>2017-11-06 14:32:21</td>\n",
       "      <td>NaN</td>\n",
       "      <td>0</td>\n",
       "    </tr>\n",
       "  </tbody>\n",
       "</table>\n",
       "</div>"
      ],
      "text/plain": [
       "      ip  app  device  os  channel           click_time attributed_time  \\\n",
       "0  83230    3       1  13      379  2017-11-06 14:32:21             NaN   \n",
       "\n",
       "   is_attributed  \n",
       "0              0  "
      ]
     },
     "execution_count": 12,
     "metadata": {},
     "output_type": "execute_result"
    }
   ],
   "source": [
    "train.head(1)"
   ]
  },
  {
   "cell_type": "code",
   "execution_count": 13,
   "metadata": {
    "_uuid": "1ac11c696e7cc5fe06067e4af91cbb39cb36560c",
    "collapsed": true
   },
   "outputs": [
    {
     "data": {
      "text/plain": [
       "ip                 47468\n",
       "app                  255\n",
       "device               425\n",
       "os                   197\n",
       "channel              155\n",
       "click_time          3411\n",
       "attributed_time     3018\n",
       "is_attributed          2\n",
       "dtype: int64"
      ]
     },
     "execution_count": 13,
     "metadata": {},
     "output_type": "execute_result"
    }
   ],
   "source": [
    "train.nunique()"
   ]
  },
  {
   "cell_type": "markdown",
   "metadata": {},
   "source": [
    "# DATA CLEAN UP AND FEATURE ENGINEERING"
   ]
  },
  {
   "cell_type": "code",
   "execution_count": 14,
   "metadata": {},
   "outputs": [],
   "source": [
    "# store temporal data as datetime on train and test sets\n",
    "\n",
    "train['click_time'] = pd.to_datetime(train['click_time'])\n",
    "test['click_time'] = pd.to_datetime(test['click_time'])"
   ]
  },
  {
   "cell_type": "code",
   "execution_count": 15,
   "metadata": {},
   "outputs": [],
   "source": [
    "train['attributed_time'] = pd.to_datetime(train['attributed_time'])"
   ]
  },
  {
   "cell_type": "code",
   "execution_count": 16,
   "metadata": {
    "_uuid": "1ae08907298d14050c9c2f90cb4982ea5297aee3",
    "collapsed": true
   },
   "outputs": [
    {
     "data": {
      "text/plain": [
       "0    1996612\n",
       "1       3388\n",
       "Name: is_attributed, dtype: int64"
      ]
     },
     "execution_count": 16,
     "metadata": {},
     "output_type": "execute_result"
    }
   ],
   "source": [
    "# the postive class ('1', downloaded app) is a teeny, tiny fraction of the negative class \n",
    "\n",
    "train['is_attributed'].value_counts()"
   ]
  },
  {
   "cell_type": "code",
   "execution_count": 17,
   "metadata": {
    "_uuid": "c69976e2c58d2c9cdbf7f28a7b01ca3cdfce03f7",
    "collapsed": true
   },
   "outputs": [
    {
     "data": {
      "text/html": [
       "<div>\n",
       "<style>\n",
       "    .dataframe thead tr:only-child th {\n",
       "        text-align: right;\n",
       "    }\n",
       "\n",
       "    .dataframe thead th {\n",
       "        text-align: left;\n",
       "    }\n",
       "\n",
       "    .dataframe tbody tr th {\n",
       "        vertical-align: top;\n",
       "    }\n",
       "</style>\n",
       "<table border=\"1\" class=\"dataframe\">\n",
       "  <thead>\n",
       "    <tr style=\"text-align: right;\">\n",
       "      <th></th>\n",
       "      <th>ip</th>\n",
       "      <th>app</th>\n",
       "      <th>device</th>\n",
       "      <th>os</th>\n",
       "      <th>channel</th>\n",
       "      <th>click_time</th>\n",
       "      <th>attributed_time</th>\n",
       "      <th>is_attributed</th>\n",
       "    </tr>\n",
       "  </thead>\n",
       "  <tbody>\n",
       "    <tr>\n",
       "      <th>0</th>\n",
       "      <td>83230</td>\n",
       "      <td>3</td>\n",
       "      <td>1</td>\n",
       "      <td>13</td>\n",
       "      <td>379</td>\n",
       "      <td>2017-11-06 14:32:21</td>\n",
       "      <td>NaT</td>\n",
       "      <td>0</td>\n",
       "    </tr>\n",
       "  </tbody>\n",
       "</table>\n",
       "</div>"
      ],
      "text/plain": [
       "      ip  app  device  os  channel          click_time attributed_time  \\\n",
       "0  83230    3       1  13      379 2017-11-06 14:32:21             NaT   \n",
       "\n",
       "   is_attributed  \n",
       "0              0  "
      ]
     },
     "execution_count": 17,
     "metadata": {},
     "output_type": "execute_result"
    }
   ],
   "source": [
    "train.head(1)"
   ]
  },
  {
   "cell_type": "code",
   "execution_count": 18,
   "metadata": {
    "_uuid": "48212a522faf99e607be1c4201ef3356395a90bb",
    "collapsed": true,
    "scrolled": true
   },
   "outputs": [
    {
     "name": "stdout",
     "output_type": "stream",
     "text": [
      "0.17%\n"
     ]
    }
   ],
   "source": [
    "# overall conversion rate -- to get a sense of the inherent class imbalance \n",
    "\n",
    "conv_rate = train.is_attributed.sum() / len(train)\n",
    "print('{:.02%}'.format(conv_rate))"
   ]
  },
  {
   "cell_type": "code",
   "execution_count": 19,
   "metadata": {},
   "outputs": [
    {
     "data": {
      "text/plain": [
       "6.3789672463118254"
      ]
     },
     "execution_count": 19,
     "metadata": {},
     "output_type": "execute_result"
    }
   ],
   "source": [
    "#WOE = In(% of non-events ➗ % of events)\n",
    "\n",
    "np.log((1-conv_rate) / conv_rate)"
   ]
  },
  {
   "cell_type": "code",
   "execution_count": 20,
   "metadata": {
    "_uuid": "e8db1f16d3f35c57db68148c373a40dfee5bd0bc",
    "collapsed": true
   },
   "outputs": [
    {
     "data": {
      "text/plain": [
       "Index(['ip', 'app', 'device', 'os', 'channel', 'click_time', 'attributed_time',\n",
       "       'is_attributed'],\n",
       "      dtype='object')"
      ]
     },
     "execution_count": 20,
     "metadata": {},
     "output_type": "execute_result"
    }
   ],
   "source": [
    "train.columns"
   ]
  },
  {
   "cell_type": "code",
   "execution_count": 21,
   "metadata": {
    "_uuid": "0f2653e6cd96bc79d0adc6b89f2cf506756589e4",
    "collapsed": true
   },
   "outputs": [],
   "source": [
    "user_agent = ['ip','app','device','os','channel']"
   ]
  },
  {
   "cell_type": "code",
   "execution_count": 22,
   "metadata": {
    "_uuid": "0d69293aceac3f9bbcb68e08fe5952834bdd3df7",
    "collapsed": true
   },
   "outputs": [],
   "source": [
    "# concatenate all computer related features into one string for data exploration purposes. \n",
    "# we should be reasonably certain that each user agent is one unique individual. \n",
    "# click time and attributed time may help shed further light here. \n",
    "\n",
    "train['user_agent'] = train[user_agent].apply(lambda x: '.'.join(x.astype(str)), axis=1)"
   ]
  },
  {
   "cell_type": "code",
   "execution_count": 23,
   "metadata": {
    "_uuid": "95eb5ba484b8d97cbaa0c30b396fdcf60611a677",
    "collapsed": true
   },
   "outputs": [],
   "source": [
    "# set all non-time related fields as 'categorical' \n",
    "\n",
    "# for u in user_agent:\n",
    "#     train[u] = train[u].astype('category')\n",
    "# #train['is_attributed'] = train['is_attributed'].astype('category')\n",
    "# train['user_agent'] = train['user_agent'].astype('category')"
   ]
  },
  {
   "cell_type": "code",
   "execution_count": 24,
   "metadata": {
    "_uuid": "d1f80759d1410dc8a0c0788a8867c5fab2552ffa",
    "collapsed": true
   },
   "outputs": [
    {
     "data": {
      "text/plain": [
       "ip                          int64\n",
       "app                         int64\n",
       "device                      int64\n",
       "os                          int64\n",
       "channel                     int64\n",
       "click_time         datetime64[ns]\n",
       "attributed_time    datetime64[ns]\n",
       "is_attributed               int64\n",
       "user_agent                 object\n",
       "dtype: object"
      ]
     },
     "execution_count": 24,
     "metadata": {},
     "output_type": "execute_result"
    }
   ],
   "source": [
    "train.dtypes"
   ]
  },
  {
   "cell_type": "code",
   "execution_count": 25,
   "metadata": {
    "_uuid": "5c964827845d78ca11f379908f591eae42222480",
    "collapsed": true
   },
   "outputs": [],
   "source": [
    "# break out click datetime object into seconds, minutes, hours and days\n",
    "\n",
    "train['day'] = train['click_time'].dt.day.astype('uint8')\n",
    "train['hour'] = train['click_time'].dt.hour.astype('uint8')\n",
    "train['minute'] = train['click_time'].dt.minute.astype('uint8')\n",
    "train['second'] = train['click_time'].dt.second.astype('uint8')"
   ]
  },
  {
   "cell_type": "code",
   "execution_count": 26,
   "metadata": {
    "_uuid": "6518ec8e009a94cdbd8c3e2b39cc3a546e4366d8",
    "collapsed": true
   },
   "outputs": [
    {
     "data": {
      "text/html": [
       "<div>\n",
       "<style>\n",
       "    .dataframe thead tr:only-child th {\n",
       "        text-align: right;\n",
       "    }\n",
       "\n",
       "    .dataframe thead th {\n",
       "        text-align: left;\n",
       "    }\n",
       "\n",
       "    .dataframe tbody tr th {\n",
       "        vertical-align: top;\n",
       "    }\n",
       "</style>\n",
       "<table border=\"1\" class=\"dataframe\">\n",
       "  <thead>\n",
       "    <tr style=\"text-align: right;\">\n",
       "      <th></th>\n",
       "      <th>ip</th>\n",
       "      <th>app</th>\n",
       "      <th>device</th>\n",
       "      <th>os</th>\n",
       "      <th>channel</th>\n",
       "      <th>click_time</th>\n",
       "      <th>attributed_time</th>\n",
       "      <th>is_attributed</th>\n",
       "      <th>user_agent</th>\n",
       "      <th>day</th>\n",
       "      <th>hour</th>\n",
       "      <th>minute</th>\n",
       "      <th>second</th>\n",
       "    </tr>\n",
       "  </thead>\n",
       "  <tbody>\n",
       "    <tr>\n",
       "      <th>0</th>\n",
       "      <td>83230</td>\n",
       "      <td>3</td>\n",
       "      <td>1</td>\n",
       "      <td>13</td>\n",
       "      <td>379</td>\n",
       "      <td>2017-11-06 14:32:21</td>\n",
       "      <td>NaT</td>\n",
       "      <td>0</td>\n",
       "      <td>83230.3.1.13.379</td>\n",
       "      <td>6</td>\n",
       "      <td>14</td>\n",
       "      <td>32</td>\n",
       "      <td>21</td>\n",
       "    </tr>\n",
       "  </tbody>\n",
       "</table>\n",
       "</div>"
      ],
      "text/plain": [
       "      ip  app  device  os  channel          click_time attributed_time  \\\n",
       "0  83230    3       1  13      379 2017-11-06 14:32:21             NaT   \n",
       "\n",
       "   is_attributed        user_agent  day  hour  minute  second  \n",
       "0              0  83230.3.1.13.379    6    14      32      21  "
      ]
     },
     "execution_count": 26,
     "metadata": {},
     "output_type": "execute_result"
    }
   ],
   "source": [
    "train.head(1)"
   ]
  },
  {
   "cell_type": "code",
   "execution_count": 27,
   "metadata": {},
   "outputs": [
    {
     "data": {
      "text/plain": [
       "ip                          int64\n",
       "app                         int64\n",
       "device                      int64\n",
       "os                          int64\n",
       "channel                     int64\n",
       "click_time         datetime64[ns]\n",
       "attributed_time    datetime64[ns]\n",
       "is_attributed               int64\n",
       "user_agent                 object\n",
       "day                         uint8\n",
       "hour                        uint8\n",
       "minute                      uint8\n",
       "second                      uint8\n",
       "dtype: object"
      ]
     },
     "execution_count": 27,
     "metadata": {},
     "output_type": "execute_result"
    }
   ],
   "source": [
    "train.dtypes"
   ]
  },
  {
   "cell_type": "code",
   "execution_count": 28,
   "metadata": {
    "_uuid": "0b12caa4464726874477b608b6a08108140ecbcf",
    "collapsed": true,
    "scrolled": true
   },
   "outputs": [
    {
     "data": {
      "text/plain": [
       "172209.2.1.14.477    507\n",
       "73487.12.1.19.326    371\n",
       "73487.3.1.19.153     362\n",
       "73516.3.1.19.153     361\n",
       "73516.12.1.19.326    343\n",
       "Name: user_agent, dtype: int64"
      ]
     },
     "execution_count": 28,
     "metadata": {},
     "output_type": "execute_result"
    }
   ],
   "source": [
    "# here we can see one user agent has 36 hits when nrows=100000.   \n",
    "# let's explore this further \n",
    "\n",
    "train.user_agent.value_counts()[:5]"
   ]
  },
  {
   "cell_type": "code",
   "execution_count": 29,
   "metadata": {},
   "outputs": [],
   "source": [
    "train['download_time'] = train['attributed_time'] - train['click_time']\n",
    "train[~train['download_time'].isnull()];"
   ]
  },
  {
   "cell_type": "code",
   "execution_count": 30,
   "metadata": {},
   "outputs": [],
   "source": [
    "train['download_time_seconds'] = train['download_time'].astype('timedelta64[s]')\n",
    "train['download_time_minutes'] = train['download_time'].astype('timedelta64[m]')\n",
    "train['download_time_hours'] = train['download_time'].astype('timedelta64[h]')"
   ]
  },
  {
   "cell_type": "code",
   "execution_count": 31,
   "metadata": {},
   "outputs": [
    {
     "data": {
      "text/html": [
       "<div>\n",
       "<style>\n",
       "    .dataframe thead tr:only-child th {\n",
       "        text-align: right;\n",
       "    }\n",
       "\n",
       "    .dataframe thead th {\n",
       "        text-align: left;\n",
       "    }\n",
       "\n",
       "    .dataframe tbody tr th {\n",
       "        vertical-align: top;\n",
       "    }\n",
       "</style>\n",
       "<table border=\"1\" class=\"dataframe\">\n",
       "  <thead>\n",
       "    <tr style=\"text-align: right;\">\n",
       "      <th></th>\n",
       "      <th>ip</th>\n",
       "      <th>app</th>\n",
       "      <th>device</th>\n",
       "      <th>os</th>\n",
       "      <th>channel</th>\n",
       "      <th>click_time</th>\n",
       "      <th>attributed_time</th>\n",
       "      <th>is_attributed</th>\n",
       "      <th>user_agent</th>\n",
       "      <th>day</th>\n",
       "      <th>hour</th>\n",
       "      <th>minute</th>\n",
       "      <th>second</th>\n",
       "      <th>download_time</th>\n",
       "      <th>download_time_seconds</th>\n",
       "      <th>download_time_minutes</th>\n",
       "      <th>download_time_hours</th>\n",
       "    </tr>\n",
       "  </thead>\n",
       "  <tbody>\n",
       "    <tr>\n",
       "      <th>0</th>\n",
       "      <td>83230</td>\n",
       "      <td>3</td>\n",
       "      <td>1</td>\n",
       "      <td>13</td>\n",
       "      <td>379</td>\n",
       "      <td>2017-11-06 14:32:21</td>\n",
       "      <td>NaT</td>\n",
       "      <td>0</td>\n",
       "      <td>83230.3.1.13.379</td>\n",
       "      <td>6</td>\n",
       "      <td>14</td>\n",
       "      <td>32</td>\n",
       "      <td>21</td>\n",
       "      <td>NaT</td>\n",
       "      <td>NaN</td>\n",
       "      <td>NaN</td>\n",
       "      <td>NaN</td>\n",
       "    </tr>\n",
       "  </tbody>\n",
       "</table>\n",
       "</div>"
      ],
      "text/plain": [
       "      ip  app  device  os  channel          click_time attributed_time  \\\n",
       "0  83230    3       1  13      379 2017-11-06 14:32:21             NaT   \n",
       "\n",
       "   is_attributed        user_agent  day  hour  minute  second download_time  \\\n",
       "0              0  83230.3.1.13.379    6    14      32      21           NaT   \n",
       "\n",
       "   download_time_seconds  download_time_minutes  download_time_hours  \n",
       "0                    NaN                    NaN                  NaN  "
      ]
     },
     "execution_count": 31,
     "metadata": {},
     "output_type": "execute_result"
    }
   ],
   "source": [
    "train.head(1)"
   ]
  },
  {
   "cell_type": "code",
   "execution_count": 32,
   "metadata": {},
   "outputs": [],
   "source": [
    "attributed = train[train['is_attributed'] == 1]"
   ]
  },
  {
   "cell_type": "code",
   "execution_count": 33,
   "metadata": {},
   "outputs": [
    {
     "data": {
      "text/plain": [
       "count                      3388\n",
       "mean     0 days 05:39:15.929161\n",
       "std      0 days 06:54:53.142986\n",
       "min             0 days 00:00:00\n",
       "25%             0 days 00:01:58\n",
       "50%      0 days 00:55:44.500000\n",
       "75%             0 days 10:15:17\n",
       "max             0 days 23:52:38\n",
       "Name: download_time, dtype: object"
      ]
     },
     "execution_count": 33,
     "metadata": {},
     "output_type": "execute_result"
    }
   ],
   "source": [
    "attributed['download_time'].describe()"
   ]
  },
  {
   "cell_type": "code",
   "execution_count": 34,
   "metadata": {
    "_uuid": "7d46f50186f2437a36d8cfae5baedb154becac4e",
    "collapsed": true
   },
   "outputs": [],
   "source": [
    "# we see NONE of our user agents for the attributed data have more than \n",
    "# one hit. compare against the non-attributed value_counts, where \n",
    "# we saw over 20+ hits for a single user-agent, a sure sign of fraud. \n",
    "attributed.user_agent.value_counts();"
   ]
  },
  {
   "cell_type": "code",
   "execution_count": 35,
   "metadata": {
    "_uuid": "42565b79facde2e62552a4729cbe0660572d12df",
    "collapsed": true
   },
   "outputs": [
    {
     "data": {
      "text/html": [
       "<div>\n",
       "<style>\n",
       "    .dataframe thead tr:only-child th {\n",
       "        text-align: right;\n",
       "    }\n",
       "\n",
       "    .dataframe thead th {\n",
       "        text-align: left;\n",
       "    }\n",
       "\n",
       "    .dataframe tbody tr th {\n",
       "        vertical-align: top;\n",
       "    }\n",
       "</style>\n",
       "<table border=\"1\" class=\"dataframe\">\n",
       "  <thead>\n",
       "    <tr style=\"text-align: right;\">\n",
       "      <th></th>\n",
       "      <th>ip</th>\n",
       "      <th>app</th>\n",
       "      <th>device</th>\n",
       "      <th>os</th>\n",
       "      <th>channel</th>\n",
       "      <th>click_time</th>\n",
       "      <th>attributed_time</th>\n",
       "      <th>is_attributed</th>\n",
       "      <th>user_agent</th>\n",
       "      <th>day</th>\n",
       "      <th>hour</th>\n",
       "      <th>minute</th>\n",
       "      <th>second</th>\n",
       "      <th>download_time</th>\n",
       "      <th>download_time_seconds</th>\n",
       "      <th>download_time_minutes</th>\n",
       "      <th>download_time_hours</th>\n",
       "    </tr>\n",
       "  </thead>\n",
       "  <tbody>\n",
       "    <tr>\n",
       "      <th>103</th>\n",
       "      <td>204158</td>\n",
       "      <td>35</td>\n",
       "      <td>1</td>\n",
       "      <td>13</td>\n",
       "      <td>21</td>\n",
       "      <td>2017-11-06 15:41:07</td>\n",
       "      <td>2017-11-07 08:17:19</td>\n",
       "      <td>1</td>\n",
       "      <td>204158.35.1.13.21</td>\n",
       "      <td>6</td>\n",
       "      <td>15</td>\n",
       "      <td>41</td>\n",
       "      <td>7</td>\n",
       "      <td>16:36:12</td>\n",
       "      <td>59772.0</td>\n",
       "      <td>996.0</td>\n",
       "      <td>16.0</td>\n",
       "    </tr>\n",
       "  </tbody>\n",
       "</table>\n",
       "</div>"
      ],
      "text/plain": [
       "         ip  app  device  os  channel          click_time     attributed_time  \\\n",
       "103  204158   35       1  13       21 2017-11-06 15:41:07 2017-11-07 08:17:19   \n",
       "\n",
       "     is_attributed         user_agent  day  hour  minute  second  \\\n",
       "103              1  204158.35.1.13.21    6    15      41       7   \n",
       "\n",
       "    download_time  download_time_seconds  download_time_minutes  \\\n",
       "103      16:36:12                59772.0                  996.0   \n",
       "\n",
       "     download_time_hours  \n",
       "103                 16.0  "
      ]
     },
     "execution_count": 35,
     "metadata": {},
     "output_type": "execute_result"
    }
   ],
   "source": [
    "attributed.head(1)"
   ]
  },
  {
   "cell_type": "code",
   "execution_count": 36,
   "metadata": {
    "_uuid": "b6e23d342f7fa922a0c704e7447e896d0649ae3a",
    "collapsed": true
   },
   "outputs": [
    {
     "data": {
      "text/plain": [
       "(3388, 17)"
      ]
     },
     "execution_count": 36,
     "metadata": {},
     "output_type": "execute_result"
    }
   ],
   "source": [
    "attributed.shape"
   ]
  },
  {
   "cell_type": "code",
   "execution_count": 37,
   "metadata": {},
   "outputs": [],
   "source": [
    "tmp = train.groupby('user_agent')['user_agent'].count().to_frame('click_count').reset_index()"
   ]
  },
  {
   "cell_type": "code",
   "execution_count": 38,
   "metadata": {},
   "outputs": [
    {
     "data": {
      "text/html": [
       "<div>\n",
       "<style>\n",
       "    .dataframe thead tr:only-child th {\n",
       "        text-align: right;\n",
       "    }\n",
       "\n",
       "    .dataframe thead th {\n",
       "        text-align: left;\n",
       "    }\n",
       "\n",
       "    .dataframe tbody tr th {\n",
       "        vertical-align: top;\n",
       "    }\n",
       "</style>\n",
       "<table border=\"1\" class=\"dataframe\">\n",
       "  <thead>\n",
       "    <tr style=\"text-align: right;\">\n",
       "      <th></th>\n",
       "      <th>user_agent</th>\n",
       "      <th>click_count</th>\n",
       "    </tr>\n",
       "  </thead>\n",
       "  <tbody>\n",
       "    <tr>\n",
       "      <th>366129</th>\n",
       "      <td>172209.2.1.14.477</td>\n",
       "      <td>507</td>\n",
       "    </tr>\n",
       "    <tr>\n",
       "      <th>910311</th>\n",
       "      <td>73487.12.1.19.326</td>\n",
       "      <td>371</td>\n",
       "    </tr>\n",
       "    <tr>\n",
       "      <th>911712</th>\n",
       "      <td>73487.3.1.19.153</td>\n",
       "      <td>362</td>\n",
       "    </tr>\n",
       "    <tr>\n",
       "      <th>914204</th>\n",
       "      <td>73516.3.1.19.153</td>\n",
       "      <td>361</td>\n",
       "    </tr>\n",
       "    <tr>\n",
       "      <th>912833</th>\n",
       "      <td>73516.12.1.19.326</td>\n",
       "      <td>343</td>\n",
       "    </tr>\n",
       "    <tr>\n",
       "      <th>265571</th>\n",
       "      <td>14320.8.1.19.145</td>\n",
       "      <td>321</td>\n",
       "    </tr>\n",
       "    <tr>\n",
       "      <th>577936</th>\n",
       "      <td>30433.8.1.19.145</td>\n",
       "      <td>318</td>\n",
       "    </tr>\n",
       "    <tr>\n",
       "      <th>366603</th>\n",
       "      <td>172352.8.1.8.145</td>\n",
       "      <td>315</td>\n",
       "    </tr>\n",
       "    <tr>\n",
       "      <th>856049</th>\n",
       "      <td>66564.8.1.19.145</td>\n",
       "      <td>312</td>\n",
       "    </tr>\n",
       "    <tr>\n",
       "      <th>446871</th>\n",
       "      <td>193061.8.1.13.145</td>\n",
       "      <td>312</td>\n",
       "    </tr>\n",
       "  </tbody>\n",
       "</table>\n",
       "</div>"
      ],
      "text/plain": [
       "               user_agent  click_count\n",
       "366129  172209.2.1.14.477          507\n",
       "910311  73487.12.1.19.326          371\n",
       "911712   73487.3.1.19.153          362\n",
       "914204   73516.3.1.19.153          361\n",
       "912833  73516.12.1.19.326          343\n",
       "265571   14320.8.1.19.145          321\n",
       "577936   30433.8.1.19.145          318\n",
       "366603   172352.8.1.8.145          315\n",
       "856049   66564.8.1.19.145          312\n",
       "446871  193061.8.1.13.145          312"
      ]
     },
     "execution_count": 38,
     "metadata": {},
     "output_type": "execute_result"
    }
   ],
   "source": [
    "tmp.sort_values('click_count', ascending=False)[:10]"
   ]
  },
  {
   "cell_type": "code",
   "execution_count": 39,
   "metadata": {},
   "outputs": [],
   "source": [
    "train = train.merge(tmp, how='left')\n",
    "del tmp"
   ]
  },
  {
   "cell_type": "markdown",
   "metadata": {},
   "source": [
    "# BUILD BASELINE MODEL "
   ]
  },
  {
   "cell_type": "code",
   "execution_count": 40,
   "metadata": {},
   "outputs": [],
   "source": [
    "# fillna and handle all #NAs \n",
    "\n",
    "nas = ['attributed_time', 'download_time', 'download_time_hours', 'download_time_minutes',\n",
    "       'download_time_seconds']"
   ]
  },
  {
   "cell_type": "code",
   "execution_count": 41,
   "metadata": {},
   "outputs": [],
   "source": [
    "train = train.fillna('0')"
   ]
  },
  {
   "cell_type": "code",
   "execution_count": 42,
   "metadata": {},
   "outputs": [
    {
     "data": {
      "text/plain": [
       "ip                                 int64\n",
       "app                                int64\n",
       "device                             int64\n",
       "os                                 int64\n",
       "channel                            int64\n",
       "click_time                datetime64[ns]\n",
       "attributed_time           datetime64[ns]\n",
       "is_attributed                      int64\n",
       "user_agent                        object\n",
       "day                                uint8\n",
       "hour                               uint8\n",
       "minute                             uint8\n",
       "second                             uint8\n",
       "download_time            timedelta64[ns]\n",
       "download_time_seconds             object\n",
       "download_time_minutes             object\n",
       "download_time_hours               object\n",
       "click_count                        int64\n",
       "dtype: object"
      ]
     },
     "execution_count": 42,
     "metadata": {},
     "output_type": "execute_result"
    }
   ],
   "source": [
    "train.dtypes"
   ]
  },
  {
   "cell_type": "code",
   "execution_count": 43,
   "metadata": {},
   "outputs": [
    {
     "data": {
      "text/html": [
       "<div>\n",
       "<style>\n",
       "    .dataframe thead tr:only-child th {\n",
       "        text-align: right;\n",
       "    }\n",
       "\n",
       "    .dataframe thead th {\n",
       "        text-align: left;\n",
       "    }\n",
       "\n",
       "    .dataframe tbody tr th {\n",
       "        vertical-align: top;\n",
       "    }\n",
       "</style>\n",
       "<table border=\"1\" class=\"dataframe\">\n",
       "  <thead>\n",
       "    <tr style=\"text-align: right;\">\n",
       "      <th></th>\n",
       "      <th>ip</th>\n",
       "      <th>app</th>\n",
       "      <th>device</th>\n",
       "      <th>os</th>\n",
       "      <th>channel</th>\n",
       "      <th>click_time</th>\n",
       "      <th>attributed_time</th>\n",
       "      <th>is_attributed</th>\n",
       "      <th>user_agent</th>\n",
       "      <th>day</th>\n",
       "      <th>hour</th>\n",
       "      <th>minute</th>\n",
       "      <th>second</th>\n",
       "      <th>download_time</th>\n",
       "      <th>download_time_seconds</th>\n",
       "      <th>download_time_minutes</th>\n",
       "      <th>download_time_hours</th>\n",
       "      <th>click_count</th>\n",
       "    </tr>\n",
       "  </thead>\n",
       "  <tbody>\n",
       "    <tr>\n",
       "      <th>0</th>\n",
       "      <td>83230</td>\n",
       "      <td>3</td>\n",
       "      <td>1</td>\n",
       "      <td>13</td>\n",
       "      <td>379</td>\n",
       "      <td>2017-11-06 14:32:21</td>\n",
       "      <td>1970-01-01</td>\n",
       "      <td>0</td>\n",
       "      <td>83230.3.1.13.379</td>\n",
       "      <td>6</td>\n",
       "      <td>14</td>\n",
       "      <td>32</td>\n",
       "      <td>21</td>\n",
       "      <td>0 days</td>\n",
       "      <td>0</td>\n",
       "      <td>0</td>\n",
       "      <td>0</td>\n",
       "      <td>1</td>\n",
       "    </tr>\n",
       "  </tbody>\n",
       "</table>\n",
       "</div>"
      ],
      "text/plain": [
       "      ip  app  device  os  channel          click_time attributed_time  \\\n",
       "0  83230    3       1  13      379 2017-11-06 14:32:21      1970-01-01   \n",
       "\n",
       "   is_attributed        user_agent  day  hour  minute  second download_time  \\\n",
       "0              0  83230.3.1.13.379    6    14      32      21        0 days   \n",
       "\n",
       "  download_time_seconds download_time_minutes download_time_hours  click_count  \n",
       "0                     0                     0                   0            1  "
      ]
     },
     "execution_count": 43,
     "metadata": {},
     "output_type": "execute_result"
    }
   ],
   "source": [
    "train.head(1)"
   ]
  },
  {
   "cell_type": "code",
   "execution_count": 44,
   "metadata": {},
   "outputs": [],
   "source": [
    "# prepare X and y for train, test splits and CV \n",
    "\n",
    "y = train['is_attributed']\n",
    "X = train.drop(['ip', 'is_attributed','click_time','attributed_time','download_time'], axis=1).select_dtypes(include=[np.number])"
   ]
  },
  {
   "cell_type": "code",
   "execution_count": 45,
   "metadata": {},
   "outputs": [
    {
     "data": {
      "text/html": [
       "<div>\n",
       "<style>\n",
       "    .dataframe thead tr:only-child th {\n",
       "        text-align: right;\n",
       "    }\n",
       "\n",
       "    .dataframe thead th {\n",
       "        text-align: left;\n",
       "    }\n",
       "\n",
       "    .dataframe tbody tr th {\n",
       "        vertical-align: top;\n",
       "    }\n",
       "</style>\n",
       "<table border=\"1\" class=\"dataframe\">\n",
       "  <thead>\n",
       "    <tr style=\"text-align: right;\">\n",
       "      <th></th>\n",
       "      <th>app</th>\n",
       "      <th>device</th>\n",
       "      <th>os</th>\n",
       "      <th>channel</th>\n",
       "      <th>day</th>\n",
       "      <th>hour</th>\n",
       "      <th>minute</th>\n",
       "      <th>second</th>\n",
       "      <th>click_count</th>\n",
       "    </tr>\n",
       "  </thead>\n",
       "  <tbody>\n",
       "    <tr>\n",
       "      <th>0</th>\n",
       "      <td>3</td>\n",
       "      <td>1</td>\n",
       "      <td>13</td>\n",
       "      <td>379</td>\n",
       "      <td>6</td>\n",
       "      <td>14</td>\n",
       "      <td>32</td>\n",
       "      <td>21</td>\n",
       "      <td>1</td>\n",
       "    </tr>\n",
       "  </tbody>\n",
       "</table>\n",
       "</div>"
      ],
      "text/plain": [
       "   app  device  os  channel  day  hour  minute  second  click_count\n",
       "0    3       1  13      379    6    14      32      21            1"
      ]
     },
     "execution_count": 45,
     "metadata": {},
     "output_type": "execute_result"
    }
   ],
   "source": [
    "X.head(1)"
   ]
  },
  {
   "cell_type": "code",
   "execution_count": 46,
   "metadata": {},
   "outputs": [
    {
     "data": {
      "text/plain": [
       "app            int64\n",
       "device         int64\n",
       "os             int64\n",
       "channel        int64\n",
       "day            uint8\n",
       "hour           uint8\n",
       "minute         uint8\n",
       "second         uint8\n",
       "click_count    int64\n",
       "dtype: object"
      ]
     },
     "execution_count": 46,
     "metadata": {},
     "output_type": "execute_result"
    }
   ],
   "source": [
    "X.dtypes"
   ]
  },
  {
   "cell_type": "code",
   "execution_count": 47,
   "metadata": {},
   "outputs": [],
   "source": [
    "X_train, X_test, y_train, y_test = train_test_split(X, y, \n",
    "                                                    test_size = 0.2, random_state=44)"
   ]
  },
  {
   "cell_type": "code",
   "execution_count": 48,
   "metadata": {},
   "outputs": [
    {
     "data": {
      "text/plain": [
       "((2000000, 9), (2000000,), (1600000, 9), (400000, 9), (1600000,), (400000,))"
      ]
     },
     "execution_count": 48,
     "metadata": {},
     "output_type": "execute_result"
    }
   ],
   "source": [
    "X.shape, y.shape, X_train.shape, X_test.shape, y_train.shape, y_test.shape"
   ]
  },
  {
   "cell_type": "code",
   "execution_count": 49,
   "metadata": {},
   "outputs": [],
   "source": [
    "# log_predictions = lr.predict(X_test)\n",
    "# logit_score = accuracy_score(y_test, log_predictions)\n",
    "# print(logit_score)"
   ]
  },
  {
   "cell_type": "markdown",
   "metadata": {},
   "source": [
    "### SUMMARY STATS FUNCTION "
   ]
  },
  {
   "cell_type": "code",
   "execution_count": 50,
   "metadata": {},
   "outputs": [],
   "source": [
    "def summary_stats(model, X_train=X_train, y_train=y_train, \n",
    "                  X_test=X_test, y_test=y_test):\n",
    "    '''\n",
    "    input model (linear regression, random forest), X_test and y_test\n",
    "    '''\n",
    "    model.fit(X_train, y_train)\n",
    "    \n",
    "    try: \n",
    "        prob_y = model.predict_proba(X_test)\n",
    "        prob_y = [p[1] for p in prob_y]\n",
    "    except: \n",
    "        pass\n",
    "    \n",
    "    p = model.predict(X_test)\n",
    "    \n",
    "    print(\"ROC Score: {:.04f}\\nRecall Score: {:.04f}\\n\\\n",
    "Accuracy Score: {:.04f}\\nMisclassification Rate: {:04f}\\n\\\n",
    "Precision Score: {:.04f}\\nF1 Score: {:.04f}\\n\"\n",
    "          .format(roc_auc_score(y_test, prob_y),\n",
    "                  recall_score(y_test,p),\n",
    "                  accuracy_score(y_test,p),\n",
    "                  1-accuracy_score(y_test,p),\n",
    "                  precision_score(y_test,p),\n",
    "                  f1_score(y_test,p)))\n",
    "    \n",
    "    print(confusion_matrix(y_test, p))\n",
    "    \n",
    "    print(\"\\n\")\n",
    "    \n",
    "    print(classification_report(y_test, p))"
   ]
  },
  {
   "cell_type": "code",
   "execution_count": null,
   "metadata": {},
   "outputs": [],
   "source": [
    "confusion_matrix(y_test, model.predict(X_test))"
   ]
  },
  {
   "cell_type": "markdown",
   "metadata": {},
   "source": [
    "#### SMOTE"
   ]
  },
  {
   "cell_type": "markdown",
   "metadata": {},
   "source": [
    "### XGBoost"
   ]
  },
  {
   "cell_type": "code",
   "execution_count": 51,
   "metadata": {},
   "outputs": [],
   "source": [
    "# scale_pos_weight -- important for imbalanced class problems \n",
    "# https://www.kaggle.com/nanomathias/feature-engineering-importance-testing"
   ]
  },
  {
   "cell_type": "code",
   "execution_count": 52,
   "metadata": {},
   "outputs": [],
   "source": [
    "feature_names = X_train.columns"
   ]
  },
  {
   "cell_type": "code",
   "execution_count": 53,
   "metadata": {},
   "outputs": [],
   "source": [
    "X_train = pd.DataFrame(data=X_train, columns=feature_names)\n",
    "X_test = pd.DataFrame(data=X_test, columns=feature_names)"
   ]
  },
  {
   "cell_type": "code",
   "execution_count": 54,
   "metadata": {},
   "outputs": [],
   "source": [
    "watchlist = [(xgb.DMatrix(X_train, y_train), 'train'), (xgb.DMatrix(X_test, y_test), 'valid')]"
   ]
  },
  {
   "cell_type": "code",
   "execution_count": 55,
   "metadata": {},
   "outputs": [],
   "source": [
    "params = {'eta': .3,\n",
    "          'max_depth': 4, \n",
    "          'subsample': 0.9,\n",
    "          'n_estimators': 100, \n",
    "          'colsample_bytree': 0.7,\n",
    "          'colsample_bylevel': 0.7,\n",
    "          'scale_pos_weight': 200,\n",
    "          'min_child_weight': 200,\n",
    "          'reg_alpha': 4,\n",
    "          'n_jobs': 4, \n",
    "          'objective': 'binary:logistic',\n",
    "          'reg_lambda': 1,\n",
    "          'seed': 44,\n",
    "          'max_delta_step': 1}"
   ]
  },
  {
   "cell_type": "code",
   "execution_count": 56,
   "metadata": {},
   "outputs": [],
   "source": [
    "feature_names = X_train.columns"
   ]
  },
  {
   "cell_type": "code",
   "execution_count": 57,
   "metadata": {},
   "outputs": [
    {
     "name": "stdout",
     "output_type": "stream",
     "text": [
      "[0]\tvalidation_0-auc:0.854483\tvalidation_1-auc:0.851298\n",
      "Multiple eval metrics have been passed: 'validation_1-auc' will be used for early stopping.\n",
      "\n",
      "Will train until validation_1-auc hasn't improved in 50 rounds.\n",
      "[1]\tvalidation_0-auc:0.85654\tvalidation_1-auc:0.858642\n",
      "[2]\tvalidation_0-auc:0.858858\tvalidation_1-auc:0.863235\n",
      "[3]\tvalidation_0-auc:0.890076\tvalidation_1-auc:0.896759\n",
      "[4]\tvalidation_0-auc:0.888992\tvalidation_1-auc:0.89617\n",
      "[5]\tvalidation_0-auc:0.892513\tvalidation_1-auc:0.900526\n",
      "[6]\tvalidation_0-auc:0.892946\tvalidation_1-auc:0.901182\n",
      "[7]\tvalidation_0-auc:0.892061\tvalidation_1-auc:0.898732\n",
      "[8]\tvalidation_0-auc:0.902005\tvalidation_1-auc:0.90647\n",
      "[9]\tvalidation_0-auc:0.904763\tvalidation_1-auc:0.911051\n",
      "[10]\tvalidation_0-auc:0.904226\tvalidation_1-auc:0.910328\n",
      "[11]\tvalidation_0-auc:0.907601\tvalidation_1-auc:0.912968\n",
      "[12]\tvalidation_0-auc:0.909507\tvalidation_1-auc:0.915389\n",
      "[13]\tvalidation_0-auc:0.909903\tvalidation_1-auc:0.915935\n",
      "[14]\tvalidation_0-auc:0.909255\tvalidation_1-auc:0.914327\n",
      "[15]\tvalidation_0-auc:0.912188\tvalidation_1-auc:0.917221\n",
      "[16]\tvalidation_0-auc:0.914388\tvalidation_1-auc:0.919271\n",
      "[17]\tvalidation_0-auc:0.915422\tvalidation_1-auc:0.920436\n",
      "[18]\tvalidation_0-auc:0.916077\tvalidation_1-auc:0.921212\n",
      "[19]\tvalidation_0-auc:0.91642\tvalidation_1-auc:0.921591\n",
      "[20]\tvalidation_0-auc:0.916329\tvalidation_1-auc:0.921372\n",
      "[21]\tvalidation_0-auc:0.917626\tvalidation_1-auc:0.922474\n",
      "[22]\tvalidation_0-auc:0.918833\tvalidation_1-auc:0.923791\n",
      "[23]\tvalidation_0-auc:0.918794\tvalidation_1-auc:0.923802\n",
      "[24]\tvalidation_0-auc:0.920531\tvalidation_1-auc:0.925962\n",
      "[25]\tvalidation_0-auc:0.921539\tvalidation_1-auc:0.926457\n",
      "[26]\tvalidation_0-auc:0.922923\tvalidation_1-auc:0.927542\n",
      "[27]\tvalidation_0-auc:0.923059\tvalidation_1-auc:0.927859\n",
      "[28]\tvalidation_0-auc:0.927192\tvalidation_1-auc:0.932238\n",
      "[29]\tvalidation_0-auc:0.928196\tvalidation_1-auc:0.932909\n",
      "[30]\tvalidation_0-auc:0.928375\tvalidation_1-auc:0.933064\n",
      "[31]\tvalidation_0-auc:0.928536\tvalidation_1-auc:0.933129\n",
      "[32]\tvalidation_0-auc:0.929263\tvalidation_1-auc:0.933815\n",
      "[33]\tvalidation_0-auc:0.930324\tvalidation_1-auc:0.934371\n",
      "[34]\tvalidation_0-auc:0.931428\tvalidation_1-auc:0.93573\n",
      "[35]\tvalidation_0-auc:0.9334\tvalidation_1-auc:0.93741\n",
      "[36]\tvalidation_0-auc:0.933587\tvalidation_1-auc:0.937625\n",
      "[37]\tvalidation_0-auc:0.933992\tvalidation_1-auc:0.937461\n",
      "[38]\tvalidation_0-auc:0.934428\tvalidation_1-auc:0.937683\n",
      "[39]\tvalidation_0-auc:0.934354\tvalidation_1-auc:0.937679\n",
      "[40]\tvalidation_0-auc:0.934653\tvalidation_1-auc:0.938032\n",
      "[41]\tvalidation_0-auc:0.935707\tvalidation_1-auc:0.939155\n",
      "[42]\tvalidation_0-auc:0.937282\tvalidation_1-auc:0.940924\n",
      "[43]\tvalidation_0-auc:0.938479\tvalidation_1-auc:0.942035\n",
      "[44]\tvalidation_0-auc:0.939139\tvalidation_1-auc:0.942919\n",
      "[45]\tvalidation_0-auc:0.940063\tvalidation_1-auc:0.943809\n",
      "[46]\tvalidation_0-auc:0.940821\tvalidation_1-auc:0.944425\n",
      "[47]\tvalidation_0-auc:0.941052\tvalidation_1-auc:0.944436\n",
      "[48]\tvalidation_0-auc:0.942533\tvalidation_1-auc:0.945486\n",
      "[49]\tvalidation_0-auc:0.942739\tvalidation_1-auc:0.945649\n",
      "[50]\tvalidation_0-auc:0.943629\tvalidation_1-auc:0.946294\n",
      "[51]\tvalidation_0-auc:0.944313\tvalidation_1-auc:0.946752\n",
      "[52]\tvalidation_0-auc:0.944469\tvalidation_1-auc:0.946702\n",
      "[53]\tvalidation_0-auc:0.945233\tvalidation_1-auc:0.947296\n",
      "[54]\tvalidation_0-auc:0.945752\tvalidation_1-auc:0.948119\n",
      "[55]\tvalidation_0-auc:0.945966\tvalidation_1-auc:0.9482\n",
      "[56]\tvalidation_0-auc:0.946496\tvalidation_1-auc:0.948187\n",
      "[57]\tvalidation_0-auc:0.946609\tvalidation_1-auc:0.948281\n",
      "[58]\tvalidation_0-auc:0.947063\tvalidation_1-auc:0.948631\n",
      "[59]\tvalidation_0-auc:0.947351\tvalidation_1-auc:0.948685\n",
      "[60]\tvalidation_0-auc:0.947884\tvalidation_1-auc:0.949095\n",
      "[61]\tvalidation_0-auc:0.948088\tvalidation_1-auc:0.949267\n",
      "[62]\tvalidation_0-auc:0.948477\tvalidation_1-auc:0.949525\n",
      "[63]\tvalidation_0-auc:0.948657\tvalidation_1-auc:0.949615\n",
      "[64]\tvalidation_0-auc:0.949059\tvalidation_1-auc:0.950005\n",
      "[65]\tvalidation_0-auc:0.949481\tvalidation_1-auc:0.950502\n",
      "[66]\tvalidation_0-auc:0.949715\tvalidation_1-auc:0.950599\n",
      "[67]\tvalidation_0-auc:0.950189\tvalidation_1-auc:0.950873\n",
      "[68]\tvalidation_0-auc:0.95078\tvalidation_1-auc:0.951691\n",
      "[69]\tvalidation_0-auc:0.950856\tvalidation_1-auc:0.951738\n",
      "[70]\tvalidation_0-auc:0.950994\tvalidation_1-auc:0.951847\n",
      "[71]\tvalidation_0-auc:0.951256\tvalidation_1-auc:0.951991\n",
      "[72]\tvalidation_0-auc:0.95149\tvalidation_1-auc:0.952145\n",
      "[73]\tvalidation_0-auc:0.951583\tvalidation_1-auc:0.952125\n",
      "[74]\tvalidation_0-auc:0.95194\tvalidation_1-auc:0.95233\n",
      "[75]\tvalidation_0-auc:0.952044\tvalidation_1-auc:0.952584\n",
      "[76]\tvalidation_0-auc:0.95233\tvalidation_1-auc:0.952928\n",
      "[77]\tvalidation_0-auc:0.952621\tvalidation_1-auc:0.953002\n",
      "[78]\tvalidation_0-auc:0.952745\tvalidation_1-auc:0.95289\n",
      "[79]\tvalidation_0-auc:0.953203\tvalidation_1-auc:0.953157\n",
      "[80]\tvalidation_0-auc:0.953463\tvalidation_1-auc:0.953509\n",
      "[81]\tvalidation_0-auc:0.953787\tvalidation_1-auc:0.9538\n",
      "[82]\tvalidation_0-auc:0.953999\tvalidation_1-auc:0.953915\n",
      "[83]\tvalidation_0-auc:0.954268\tvalidation_1-auc:0.95396\n",
      "[84]\tvalidation_0-auc:0.954471\tvalidation_1-auc:0.954066\n",
      "[85]\tvalidation_0-auc:0.95461\tvalidation_1-auc:0.954143\n",
      "[86]\tvalidation_0-auc:0.954828\tvalidation_1-auc:0.95432\n",
      "[87]\tvalidation_0-auc:0.954981\tvalidation_1-auc:0.954393\n",
      "[88]\tvalidation_0-auc:0.955194\tvalidation_1-auc:0.954267\n",
      "[89]\tvalidation_0-auc:0.9553\tvalidation_1-auc:0.954149\n",
      "[90]\tvalidation_0-auc:0.955453\tvalidation_1-auc:0.954232\n",
      "[91]\tvalidation_0-auc:0.955679\tvalidation_1-auc:0.954219\n",
      "[92]\tvalidation_0-auc:0.95584\tvalidation_1-auc:0.954139\n",
      "[93]\tvalidation_0-auc:0.955923\tvalidation_1-auc:0.954191\n",
      "[94]\tvalidation_0-auc:0.956005\tvalidation_1-auc:0.954328\n",
      "[95]\tvalidation_0-auc:0.956169\tvalidation_1-auc:0.954395\n",
      "[96]\tvalidation_0-auc:0.956237\tvalidation_1-auc:0.954337\n",
      "[97]\tvalidation_0-auc:0.95632\tvalidation_1-auc:0.954512\n",
      "[98]\tvalidation_0-auc:0.956612\tvalidation_1-auc:0.954652\n",
      "[99]\tvalidation_0-auc:0.956909\tvalidation_1-auc:0.954755\n"
     ]
    }
   ],
   "source": [
    "gbm = xgb.XGBClassifier(**params)\n",
    "\n",
    "eval_set=[(X_train,y_train),(X_test,y_test)] #tracking train/validation error as we go\n",
    "fit_model = gbm.fit( \n",
    "                    X_train, y_train, \n",
    "                    eval_set=eval_set,\n",
    "                    eval_metric='auc',\n",
    "                    early_stopping_rounds=50,\n",
    "                    verbose=True #gives output log as below\n",
    "                   )"
   ]
  },
  {
   "cell_type": "code",
   "execution_count": 58,
   "metadata": {},
   "outputs": [],
   "source": [
    "clf_xgBoost = xgb.XGBClassifier(**params)"
   ]
  },
  {
   "cell_type": "code",
   "execution_count": 59,
   "metadata": {},
   "outputs": [
    {
     "name": "stdout",
     "output_type": "stream",
     "text": [
      "ROC Score: 0.9548\n",
      "Recall Score: 0.7426\n",
      "Accuracy Score: 0.9896\n",
      "Misclassification Rate: 0.010413\n",
      "Precision Score: 0.1165\n",
      "F1 Score: 0.2013\n",
      "\n",
      "[[395310   3983]\n",
      " [   182    525]]\n",
      "\n",
      "\n",
      "             precision    recall  f1-score   support\n",
      "\n",
      "          0       1.00      0.99      0.99    399293\n",
      "          1       0.12      0.74      0.20       707\n",
      "\n",
      "avg / total       1.00      0.99      0.99    400000\n",
      "\n"
     ]
    }
   ],
   "source": [
    "summary_stats(clf_xgBoost)"
   ]
  },
  {
   "cell_type": "code",
   "execution_count": 71,
   "metadata": {},
   "outputs": [],
   "source": [
    "def print_confusion_matrix(confusion_matrix, class_names, figsize = (10,7), fontsize=14):\n",
    "    \"\"\"Prints a confusion matrix, as returned by sklearn.metrics.confusion_matrix, as a heatmap.\n",
    "    \n",
    "    Arguments\n",
    "    ---------\n",
    "    confusion_matrix: numpy.ndarray\n",
    "        The numpy.ndarray object returned from a call to sklearn.metrics.confusion_matrix. \n",
    "        Similarly constructed ndarrays can also be used.\n",
    "    class_names: list\n",
    "        An ordered list of class names, in the order they index the given confusion matrix.\n",
    "    figsize: tuple\n",
    "        A 2-long tuple, the first value determining the horizontal size of the ouputted figure,\n",
    "        the second determining the vertical size. Defaults to (10,7).\n",
    "    fontsize: int\n",
    "        Font size for axes labels. Defaults to 14.\n",
    "        \n",
    "    Returns\n",
    "    -------\n",
    "    matplotlib.figure.Figure\n",
    "        The resulting confusion matrix figure\n",
    "    \"\"\"\n",
    "    df_cm = pd.DataFrame(\n",
    "        confusion_matrix, index=class_names, columns=class_names, \n",
    "    )\n",
    "    fig = plt.figure(figsize=figsize)\n",
    "    try:\n",
    "        heatmap = sns.heatmap(df_cm, annot=True, fmt=\"d\")\n",
    "    except ValueError:\n",
    "        raise ValueError(\"Confusion matrix values must be integers.\")\n",
    "    heatmap.yaxis.set_ticklabels(heatmap.yaxis.get_ticklabels(), rotation=0, ha='right', fontsize=fontsize)\n",
    "    heatmap.xaxis.set_ticklabels(heatmap.xaxis.get_ticklabels(), rotation=45, ha='right', fontsize=fontsize)\n",
    "    plt.ylabel('True label')\n",
    "    plt.xlabel('Predicted label')\n",
    "    return fig"
   ]
  },
  {
   "cell_type": "code",
   "execution_count": 73,
   "metadata": {},
   "outputs": [],
   "source": [
    "conf = confusion_matrix(y_test, clf_xgBoost.predict(X_test))"
   ]
  },
  {
   "cell_type": "code",
   "execution_count": 77,
   "metadata": {},
   "outputs": [
    {
     "data": {
      "image/png": "[encoded data removed]",
      "text/plain": [
       "<matplotlib.figure.Figure at 0x1a352f3ba8>"
      ]
     },
     "execution_count": 77,
     "metadata": {},
     "output_type": "execute_result"
    },
    {
     "data": {
      "image/png": "[encoded data removed]",
      "text/plain": [
       "<matplotlib.figure.Figure at 0x1a352f3ba8>"
      ]
     },
     "metadata": {},
     "output_type": "display_data"
    }
   ],
   "source": [
    "print_confusion_matrix(conf, ['no download','download'], figsize=(7,4))"
   ]
  },
  {
   "cell_type": "code",
   "execution_count": 60,
   "metadata": {},
   "outputs": [
    {
     "data": {
      "image/png": "[encoded data removed]",
      "text/plain": [
       "<matplotlib.figure.Figure at 0x1a4946b7b8>"
      ]
     },
     "metadata": {},
     "output_type": "display_data"
    },
    {
     "data": {
      "image/png": "[encoded data removed]",
      "text/plain": [
       "<matplotlib.figure.Figure at 0x1a3e308048>"
      ]
     },
     "metadata": {},
     "output_type": "display_data"
    },
    {
     "data": {
      "image/png": "[encoded data removed]",
      "text/plain": [
       "<matplotlib.figure.Figure at 0x1a3dc00da0>"
      ]
     },
     "metadata": {},
     "output_type": "display_data"
    }
   ],
   "source": [
    "xgb.plot_importance(clf_xgBoost, importance_type='weight');\n",
    "xgb.plot_importance(clf_xgBoost, importance_type='gain');\n",
    "xgb.plot_importance(clf_xgBoost, importance_type='cover');"
   ]
  },
  {
   "cell_type": "code",
   "execution_count": 61,
   "metadata": {},
   "outputs": [],
   "source": [
    "dtrain = xgb.DMatrix(X_train.values, y_train.values)"
   ]
  },
  {
   "cell_type": "code",
   "execution_count": 62,
   "metadata": {},
   "outputs": [
    {
     "name": "stdout",
     "output_type": "stream",
     "text": [
      "[0]\ttrain-error:0.00889733+0.000657835\ttest-error:0.008921+0.000649346\n",
      "[1]\ttrain-error:0.00657433+0.000757077\ttest-error:0.00658233+0.0007594\n"
     ]
    }
   ],
   "source": [
    "res = xgb.cv(params=params, dtrain=dtrain, num_boost_round=2, folds=5, \n",
    "             verbose_eval=True)"
   ]
  },
  {
   "cell_type": "code",
   "execution_count": 63,
   "metadata": {},
   "outputs": [],
   "source": [
    "train.to_csv('kaggle_data2.csv', index=False)"
   ]
  },
  {
   "cell_type": "code",
   "execution_count": null,
   "metadata": {},
   "outputs": [],
   "source": []
  }
 ],
 "metadata": {
  "kernelspec": {
   "display_name": "Python 3",
   "language": "python",
   "name": "python3"
  },
  "language_info": {
   "codemirror_mode": {
    "name": "ipython",
    "version": 3
   },
   "file_extension": ".py",
   "mimetype": "text/x-python",
   "name": "python",
   "nbconvert_exporter": "python",
   "pygments_lexer": "ipython3",
   "version": "3.6.3"
  }
 },
 "nbformat": 4,
 "nbformat_minor": 2
}
